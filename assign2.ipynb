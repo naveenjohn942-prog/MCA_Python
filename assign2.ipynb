{
 "cells": [
  {
   "cell_type": "code",
   "execution_count": 49,
   "metadata": {},
   "outputs": [
    {
     "name": "stdout",
     "output_type": "stream",
     "text": [
      "Its not\n"
     ]
    }
   ],
   "source": [
    "#Is the given list divisible by 3 or NOT?\n",
    "\n",
    "a=[1,2,3,4,5,6,7,8,9,10,12,10,3]\n",
    "#a=[3,6,9]\n",
    "\n",
    "ans=[x for x in a if x%3==0]\n",
    "if len(ans)==len(a):\n",
    "    print(\"It is divisible\")\n",
    "    print(ans)\n",
    "else:\n",
    "    print(\"Its not\")"
   ]
  },
  {
   "cell_type": "code",
   "execution_count": 36,
   "metadata": {},
   "outputs": [
    {
     "name": "stdout",
     "output_type": "stream",
     "text": [
      "[4, 16, 36, 64, 100, 144, 100]\n"
     ]
    }
   ],
   "source": [
    "#Square of even numbers in a list\n",
    "\n",
    "ans=[x**2 for x in a if x%2==0]\n",
    "print(ans)"
   ]
  },
  {
   "cell_type": "code",
   "execution_count": 37,
   "metadata": {},
   "outputs": [
    {
     "name": "stdout",
     "output_type": "stream",
     "text": [
      "52\n"
     ]
    }
   ],
   "source": [
    "#Sum of digits of all EVEN numbers in a list\n",
    "ans=[x for x in a if x%2==0]\n",
    "ans1=sum(ans)\n",
    "print(ans1)"
   ]
  },
  {
   "cell_type": "code",
   "execution_count": 40,
   "metadata": {},
   "outputs": [
    {
     "name": "stdout",
     "output_type": "stream",
     "text": [
      "[1, 2, 3, 4, 5, 6, 7, 8, 9, 10, 12]\n"
     ]
    }
   ],
   "source": [
    "#Remove duplicate numbers in a list\n",
    "ans=[x for x in list(set(a))]\n",
    "print(ans)"
   ]
  },
  {
   "cell_type": "code",
   "execution_count": 46,
   "metadata": {},
   "outputs": [
    {
     "name": "stdout",
     "output_type": "stream",
     "text": [
      "5 November 1988\n"
     ]
    }
   ],
   "source": [
    "#Dictionary\n",
    "birth={ \"Virat Kohli\": \"5 November 1988\", \"Umesh Yadav\": \"25 October 1987\", \"Manish Pandey\":\n",
    "\"10 September 1989\", \"Rohit Sharma\": \"30 April 1987\", \"Ravindra Jadeja\": \"6 December 1988\", \"Hardik Pandya\": \"11 October 1993\" }\n",
    "def birthDate():\n",
    "    x=input(\"Enter the name=\")\n",
    "    print(birth.get(x))\n",
    "birthDate()\n"
   ]
  }
 ],
 "metadata": {
  "kernelspec": {
   "display_name": "Python 3",
   "language": "python",
   "name": "python3"
  },
  "language_info": {
   "codemirror_mode": {
    "name": "ipython",
    "version": 3
   },
   "file_extension": ".py",
   "mimetype": "text/x-python",
   "name": "python",
   "nbconvert_exporter": "python",
   "pygments_lexer": "ipython3",
   "version": "3.10.11"
  },
  "orig_nbformat": 4
 },
 "nbformat": 4,
 "nbformat_minor": 2
}
