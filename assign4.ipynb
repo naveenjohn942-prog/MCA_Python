{
 "cells": [
  {
   "cell_type": "code",
   "execution_count": 2,
   "metadata": {},
   "outputs": [
    {
     "name": "stdout",
     "output_type": "stream",
     "text": [
      "[(1000, 'Torabti', 'Yolanda', 'F', 'Programmer')\n",
      " (1001, 'Kleinn', 'Joel', 'M', 'Programmer')\n",
      " (1002, 'Ginsburg', 'Laura', 'F', 'President')\n",
      " (1003, 'Cox', 'Jenifer', 'F', 'Programmer')\n",
      " (1005, 'Zada', 'Mauri', 'M', 'Product Designer')\n",
      " (1006, 'Keyser', 'Cara', 'F', 'Account Executive')\n",
      " (1010, 'Smith', 'Roxie', 'M', 'Programmer')\n",
      " (1011, 'Nelson', 'Robert', 'M', 'Programmer')\n",
      " (1012, 'Sachsen', 'Lars', 'M', 'Support Technician')\n",
      " (1013, 'Shannon', 'Don', 'M', 'Product Designer')]\n"
     ]
    }
   ],
   "source": [
    "import numpy as np\n",
    "emp=[('Emp_id','i8'),('Last_Name','U9'),('First_Name','U9'),('Gender','U1'),('Title','U20')]\n",
    "data=np.array([(1000,'Torabti','Yolanda','F','Programmer'),(1001,'Kleinn','Joel','M','Programmer'),\n",
    "              (1002,'Ginsburg','Laura','F','President'),(1003,'Cox','Jenifer','F','Programmer'),\n",
    "              (1005,\"Zada\",\"Mauri\",\"M\",\"Product Designer\"),(1006,\"Keyser\",\"Cara\",\"F\",\"Account Executive\"),\n",
    "              (1010,\"Smith\",\"Roxie\",\"M\",\"Programmer\"),(1011,\"Nelson\",\"Robert\",\"M\",\"Programmer\"),\n",
    "              (1012,\"Sachsen\",\"Lars\",\"M\",\"Support Technician\"),(1013,'Shannon','Don','M','Product Designer')],dtype=emp)\n",
    "\n",
    "\n",
    "print(data)"
   ]
  },
  {
   "cell_type": "code",
   "execution_count": 4,
   "metadata": {},
   "outputs": [
    {
     "name": "stdout",
     "output_type": "stream",
     "text": [
      "Number of male are: 6\n"
     ]
    }
   ],
   "source": [
    "gen=data['Gender']\n",
    "is_gen=gen=='M'\n",
    "num_male=np.sum(is_gen)\n",
    "print(\"Number of male are:\",num_male)"
   ]
  },
  {
   "cell_type": "code",
   "execution_count": 5,
   "metadata": {},
   "outputs": [
    {
     "name": "stdout",
     "output_type": "stream",
     "text": [
      "[(1010, 'Smith', 'Roxie', 'M', 'Programmer')\n",
      " (1012, 'Sachsen', 'Lars', 'M', 'Support Technician')\n",
      " (1013, 'Shannon', 'Don', 'M', 'Product Designer')]\n"
     ]
    }
   ],
   "source": [
    "b=data['Last_Name']\n",
    "start_b=np.char.startswith(b,'S')\n",
    "ans=data[start_b]\n",
    "print(ans)"
   ]
  },
  {
   "cell_type": "code",
   "execution_count": 6,
   "metadata": {},
   "outputs": [
    {
     "name": "stdout",
     "output_type": "stream",
     "text": [
      "[(1000, 'Torabti', 'Yolanda', 'F', 'Programmer')\n",
      " (1002, 'Ginsburg', 'Laura', 'F', 'President')\n",
      " (1003, 'Cox', 'Jenifer', 'F', 'Programmer')\n",
      " (1006, 'Keyser', 'Cara', 'F', 'Account Executive')]\n"
     ]
    }
   ],
   "source": [
    "c=data[data['Gender']=='F']\n",
    "srt_c=np.argsort(c['First_Name'])[::-1]\n",
    "ans=c[srt_c]\n",
    "print(ans)"
   ]
  },
  {
   "cell_type": "code",
   "execution_count": 7,
   "metadata": {},
   "outputs": [
    {
     "name": "stdout",
     "output_type": "stream",
     "text": [
      "[[1000 1001]\n",
      " [1002 1003]\n",
      " [1005 1006]\n",
      " [1010 1011]\n",
      " [1012 1013]]\n"
     ]
    }
   ],
   "source": [
    "d=data['Emp_id']\n",
    "two_D=d.reshape(5,2)\n",
    "print(two_D)"
   ]
  },
  {
   "cell_type": "code",
   "execution_count": 8,
   "metadata": {},
   "outputs": [
    {
     "name": "stdout",
     "output_type": "stream",
     "text": [
      "[(1002, 'Ginsburg', 'President') (1003, 'Cox', 'Programmer')\n",
      " (1005, 'Zada', 'Product Designer') (1006, 'Keyser', 'Account Executive')\n",
      " (1010, 'Smith', 'Programmer') (1011, 'Nelson', 'Programmer')\n",
      " (1012, 'Sachsen', 'Support Technician')]\n"
     ]
    }
   ],
   "source": [
    "mask = [False,False,True, True,True,True,True, True,True,False]\n",
    "e=data[mask]\n",
    "col_e=['Emp_id', 'Last_Name', 'Title']\n",
    "filt=e[col_e]\n",
    "print(filt)"
   ]
  },
  {
   "cell_type": "code",
   "execution_count": 9,
   "metadata": {},
   "outputs": [
    {
     "name": "stdout",
     "output_type": "stream",
     "text": [
      "     User_ID  Gender   Age  Height  Weight                    Food  \\\n",
      "0   14733363    male   NaN     190      94              Cows' milk   \n",
      "1   14861698  female  20.0     166      60               Milk skim   \n",
      "2   11179863    male   NaN     179      79              Buttermilk   \n",
      "3   16180408  female  34.0     179      71   Evaporated, undiluted   \n",
      "4   17771927  female   NaN     154      58          Fortified milk   \n",
      "5   15130815  female  36.0     151      50           Powdered milk   \n",
      "6   19602372  female  33.0     158      56           skim, instant   \n",
      "7   11117088    male   NaN     175      85       skim, non-instant   \n",
      "8   12132339    male  60.0     186      94             Goats' milk   \n",
      "9   17964668  female  26.0     146      51     (1/2 cup ice cream)   \n",
      "10  13723164  female  36.0     177      76                   Cocoa   \n",
      "11  13681290  female  21.0     157      56              skim. milk   \n",
      "12  15566424    male  66.0     171      79            (cornstarch)   \n",
      "13  12891699  female  32.0     157      54                 Custard   \n",
      "14  13823829    male  53.0     182      85               Ice cream   \n",
      "15  17557348  female  39.0     156      62                Ice milk   \n",
      "16  12198133    male  39.0     182      82  Cream or half-and-half   \n",
      "17  15236104    male  46.0     169      67             or whipping   \n",
      "18  11042324  female  27.0     171      65                  Cheese   \n",
      "19  16864285    male  50.0     188      86               uncreamed   \n",
      "\n",
      "       Measure  Grams Calories Protein Fat Sat.Fat Fiber Carbs  \\\n",
      "0        1 qt.    976      660      32  40      36     0    48   \n",
      "1        1 qt.    984      360      36   t       t     0    52   \n",
      "2        1 cup    246      127       9   5       4     0    13   \n",
      "3        1 cup    252      345      16  20      18     0    24   \n",
      "4       6 cups  1,419    1,373      89  42      23   1.4   NaN   \n",
      "5        1 cup    103      515      27  28      24     0    39   \n",
      "6   1 1/3 cups     85      290      30   t       t     0    42   \n",
      "7      2/3 cup     85      290      30   t       t     1    42   \n",
      "8        1 cup    244      165       8  10       8     0    11   \n",
      "9       2 cups    540      690      24  24      22     0    70   \n",
      "10       1 cup    252      235       8  11      10     0    26   \n",
      "11       1 cup    250      128      18   4       3     1    13   \n",
      "12       1 cup    248      275       9  10       9     0    40   \n",
      "13       1 cup    248      285      13  14      11     0    28   \n",
      "14       1 cup    188      300       6  18      16     0    29   \n",
      "15       1 cup    190      275       9  10       9     0    32   \n",
      "16     1/2 cup    120      170       4  15      13     0     5   \n",
      "17     1/2 cup    119      430       2  44      27     1     3   \n",
      "18       1 cup    225      240      30  11      10     0     6   \n",
      "19       1 cup    225      195      38   t       t     0     6   \n",
      "\n",
      "          Category  Rating        Last Updated  \n",
      "0   Dairy products     NaN     January 7, 2018  \n",
      "1   Dairy products     3.9    January 15, 2018  \n",
      "2   Dairy products     NaN      August 1, 2018  \n",
      "3   Dairy products     4.5        June 8, 2018  \n",
      "4   Dairy products     4.3       June 20, 2018  \n",
      "5   Dairy products     4.4      March 26, 2017  \n",
      "6   Dairy products     NaN      April 26, 2018  \n",
      "7   Dairy products     4.1       June 14, 2018  \n",
      "8   Dairy products     4.4  September 20, 2017  \n",
      "9   Dairy products     4.7        July 3, 2018  \n",
      "10  Dairy products     4.4    October 27, 2017  \n",
      "11  Dairy products     4.4       July 31, 2018  \n",
      "12  Dairy products     4.2       April 2, 2018  \n",
      "13  Dairy products     4.6       June 26, 2018  \n",
      "14  Dairy products     4.4      August 3, 2018  \n",
      "15  Dairy products     3.2        June 6, 2018  \n",
      "16  Dairy products     4.7       July 31, 2018  \n",
      "17  Dairy products     4.5    November 7, 2017  \n",
      "18  Dairy products     4.3      August 3, 2018  \n",
      "19  Dairy products     4.6       July 30, 2018  \n"
     ]
    }
   ],
   "source": [
    "import pandas as pd\n",
    "\n",
    "missdata=pd.read_csv('nutrients_csvfile.csv')\n",
    "print(missdata.head(20))"
   ]
  },
  {
   "cell_type": "code",
   "execution_count": null,
   "metadata": {},
   "outputs": [],
   "source": []
  }
 ],
 "metadata": {
  "kernelspec": {
   "display_name": "Python 3",
   "language": "python",
   "name": "python3"
  },
  "language_info": {
   "codemirror_mode": {
    "name": "ipython",
    "version": 3
   },
   "file_extension": ".py",
   "mimetype": "text/x-python",
   "name": "python",
   "nbconvert_exporter": "python",
   "pygments_lexer": "ipython3",
   "version": "3.10.8"
  },
  "orig_nbformat": 4
 },
 "nbformat": 4,
 "nbformat_minor": 2
}
