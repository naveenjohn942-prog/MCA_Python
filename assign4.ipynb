{
 "cells": [
  {
   "cell_type": "code",
   "execution_count": 22,
   "metadata": {},
   "outputs": [
    {
     "name": "stdout",
     "output_type": "stream",
     "text": [
      "[(1000, 'Torabti', 'Yolanda', 'F', 'Programmer')\n",
      " (1001, 'Kleinn', 'Joel', 'M', 'Programmer')\n",
      " (1002, 'Ginsburg', 'Laura', 'F', 'President')\n",
      " (1003, 'Cox', 'Jenifer', 'F', 'Programmer')\n",
      " (1005, 'Zada', 'Mauri', 'M', 'Product Designer')\n",
      " (1006, 'Keyser', 'Cara', 'F', 'Account Executive')\n",
      " (1010, 'Smith', 'Roxie', 'M', 'Programmer')\n",
      " (1011, 'Nelson', 'Robert', 'M', 'Programmer')\n",
      " (1012, 'Sachsen', 'Lars', 'M', 'Support Technician')\n",
      " (1013, 'Shannon', 'Don', 'M', 'Product Designer')]\n"
     ]
    }
   ],
   "source": [
    "import numpy as np\n",
    "emp=[('Emp_id','i8'),('Last_Name','U9'),('First_Name','U9'),('Gender','U1'),('Title','U20')]\n",
    "data=np.array([(1000,'Torabti','Yolanda','F','Programmer'),(1001,'Kleinn','Joel','M','Programmer'),\n",
    "              (1002,'Ginsburg','Laura','F','President'),(1003,'Cox','Jenifer','F','Programmer'),\n",
    "              (1005,\"Zada\",\"Mauri\",\"M\",\"Product Designer\"),(1006,\"Keyser\",\"Cara\",\"F\",\"Account Executive\"),\n",
    "              (1010,\"Smith\",\"Roxie\",\"M\",\"Programmer\"),(1011,\"Nelson\",\"Robert\",\"M\",\"Programmer\"),\n",
    "              (1012,\"Sachsen\",\"Lars\",\"M\",\"Support Technician\"),(1013,'Shannon','Don','M','Product Designer')],dtype=emp)\n",
    "\n",
    "\n",
    "print(data)"
   ]
  },
  {
   "cell_type": "code",
   "execution_count": 23,
   "metadata": {},
   "outputs": [
    {
     "name": "stdout",
     "output_type": "stream",
     "text": [
      "Number of male are: 6\n"
     ]
    }
   ],
   "source": [
    "gen=data['Gender']\n",
    "is_gen=gen=='M'\n",
    "num_male=np.sum(is_gen)\n",
    "print(\"Number of male are:\",num_male)"
   ]
  },
  {
   "cell_type": "code",
   "execution_count": 24,
   "metadata": {},
   "outputs": [
    {
     "name": "stdout",
     "output_type": "stream",
     "text": [
      "[(1010, 'Smith', 'Roxie', 'M', 'Programmer')\n",
      " (1012, 'Sachsen', 'Lars', 'M', 'Support Technician')\n",
      " (1013, 'Shannon', 'Don', 'M', 'Product Designer')]\n"
     ]
    }
   ],
   "source": [
    "b=data['Last_Name']\n",
    "start_b=np.char.startswith(b,'S')\n",
    "ans=data[start_b]\n",
    "print(ans)"
   ]
  },
  {
   "cell_type": "code",
   "execution_count": 25,
   "metadata": {},
   "outputs": [
    {
     "name": "stdout",
     "output_type": "stream",
     "text": [
      "[(1000, 'Torabti', 'Yolanda', 'F', 'Programmer')\n",
      " (1002, 'Ginsburg', 'Laura', 'F', 'President')\n",
      " (1003, 'Cox', 'Jenifer', 'F', 'Programmer')\n",
      " (1006, 'Keyser', 'Cara', 'F', 'Account Executive')]\n"
     ]
    }
   ],
   "source": [
    "c=data[data['Gender']=='F']\n",
    "srt_c=np.argsort(c['First_Name'])[::-1]\n",
    "ans=c[srt_c]\n",
    "print(ans)"
   ]
  },
  {
   "cell_type": "code",
   "execution_count": 26,
   "metadata": {},
   "outputs": [
    {
     "name": "stdout",
     "output_type": "stream",
     "text": [
      "[[1000 1001]\n",
      " [1002 1003]\n",
      " [1005 1006]\n",
      " [1010 1011]\n",
      " [1012 1013]]\n"
     ]
    }
   ],
   "source": [
    "d=data['Emp_id']\n",
    "two_D=d.reshape(5,2)\n",
    "print(two_D)"
   ]
  },
  {
   "cell_type": "code",
   "execution_count": 27,
   "metadata": {},
   "outputs": [
    {
     "name": "stdout",
     "output_type": "stream",
     "text": [
      "[(1002, 'Ginsburg', 'President') (1003, 'Cox', 'Programmer')\n",
      " (1005, 'Zada', 'Product Designer') (1006, 'Keyser', 'Account Executive')\n",
      " (1010, 'Smith', 'Programmer') (1011, 'Nelson', 'Programmer')\n",
      " (1012, 'Sachsen', 'Support Technician')]\n"
     ]
    }
   ],
   "source": [
    "mask = [False,False,True, True,True,True,True, True,True,False]\n",
    "e=data[mask]\n",
    "col_e=['Emp_id', 'Last_Name', 'Title']\n",
    "filt=e[col_e]\n",
    "print(filt)"
   ]
  },
  {
   "cell_type": "code",
   "execution_count": 28,
   "metadata": {},
   "outputs": [
    {
     "name": "stdout",
     "output_type": "stream",
     "text": [
      "     User_ID  Gender   Age  Height  Weight                    Food  \\\n",
      "0   14733363    male   NaN     190      94              Cows' milk   \n",
      "1   14861698  female  20.0     166      60               Milk skim   \n",
      "2   11179863    male   NaN     179      79              Buttermilk   \n",
      "3   16180408  female  34.0     179      71   Evaporated, undiluted   \n",
      "4   17771927  female   NaN     154      58          Fortified milk   \n",
      "5   15130815  female  36.0     151      50           Powdered milk   \n",
      "6   19602372  female  33.0     158      56           skim, instant   \n",
      "7   11117088    male   NaN     175      85       skim, non-instant   \n",
      "8   12132339    male  60.0     186      94             Goats' milk   \n",
      "9   17964668  female  26.0     146      51     (1/2 cup ice cream)   \n",
      "10  13723164  female  36.0     177      76                   Cocoa   \n",
      "11  13681290  female  21.0     157      56              skim. milk   \n",
      "12  15566424    male  66.0     171      79            (cornstarch)   \n",
      "13  12891699  female  32.0     157      54                 Custard   \n",
      "14  13823829    male  53.0     182      85               Ice cream   \n",
      "15  17557348  female  39.0     156      62                Ice milk   \n",
      "16  12198133    male  39.0     182      82  Cream or half-and-half   \n",
      "17  15236104    male  46.0     169      67             or whipping   \n",
      "18  11042324  female  27.0     171      65                  Cheese   \n",
      "19  16864285    male  50.0     188      86               uncreamed   \n",
      "\n",
      "       Measure  Grams Calories Protein Fat Sat.Fat Fiber Carbs  \\\n",
      "0        1 qt.    976      660      32  40      36     0    48   \n",
      "1        1 qt.    984      360      36   t       t     0    52   \n",
      "2        1 cup    246      127       9   5       4     0    13   \n",
      "3        1 cup    252      345      16  20      18     0    24   \n",
      "4       6 cups  1,419    1,373      89  42      23   1.4   NaN   \n",
      "5        1 cup    103      515      27  28      24     0    39   \n",
      "6   1 1/3 cups     85      290      30   t       t     0    42   \n",
      "7      2/3 cup     85      290      30   t       t     1    42   \n",
      "8        1 cup    244      165       8  10       8     0    11   \n",
      "9       2 cups    540      690      24  24      22     0    70   \n",
      "10       1 cup    252      235       8  11      10     0    26   \n",
      "11       1 cup    250      128      18   4       3     1    13   \n",
      "12       1 cup    248      275       9  10       9     0    40   \n",
      "13       1 cup    248      285      13  14      11     0    28   \n",
      "14       1 cup    188      300       6  18      16     0    29   \n",
      "15       1 cup    190      275       9  10       9     0    32   \n",
      "16     1/2 cup    120      170       4  15      13     0     5   \n",
      "17     1/2 cup    119      430       2  44      27     1     3   \n",
      "18       1 cup    225      240      30  11      10     0     6   \n",
      "19       1 cup    225      195      38   t       t     0     6   \n",
      "\n",
      "          Category  Rating        Last Updated  \n",
      "0   Dairy products     NaN     January 7, 2018  \n",
      "1   Dairy products     3.9    January 15, 2018  \n",
      "2   Dairy products     NaN      August 1, 2018  \n",
      "3   Dairy products     4.5        June 8, 2018  \n",
      "4   Dairy products     4.3       June 20, 2018  \n",
      "5   Dairy products     4.4      March 26, 2017  \n",
      "6   Dairy products     NaN      April 26, 2018  \n",
      "7   Dairy products     4.1       June 14, 2018  \n",
      "8   Dairy products     4.4  September 20, 2017  \n",
      "9   Dairy products     4.7        July 3, 2018  \n",
      "10  Dairy products     4.4    October 27, 2017  \n",
      "11  Dairy products     4.4       July 31, 2018  \n",
      "12  Dairy products     4.2       April 2, 2018  \n",
      "13  Dairy products     4.6       June 26, 2018  \n",
      "14  Dairy products     4.4      August 3, 2018  \n",
      "15  Dairy products     3.2        June 6, 2018  \n",
      "16  Dairy products     4.7       July 31, 2018  \n",
      "17  Dairy products     4.5    November 7, 2017  \n",
      "18  Dairy products     4.3      August 3, 2018  \n",
      "19  Dairy products     4.6       July 30, 2018  \n"
     ]
    }
   ],
   "source": [
    "import pandas as pd\n",
    "\n",
    "missdata=pd.read_csv('nutrients_csvfile.csv')\n",
    "print(missdata.head(20))"
   ]
  },
  {
   "cell_type": "code",
   "execution_count": 29,
   "metadata": {},
   "outputs": [
    {
     "name": "stdout",
     "output_type": "stream",
     "text": [
      "     User_ID  Gender    Age  Height  Weight   Food  Measure  Grams  Calories  \\\n",
      "0      False   False   True   False   False  False    False  False     False   \n",
      "1      False   False  False   False   False  False    False  False     False   \n",
      "2      False   False   True   False   False  False    False  False     False   \n",
      "3      False   False  False   False   False  False    False  False     False   \n",
      "4      False   False   True   False   False  False    False  False     False   \n",
      "..       ...     ...    ...     ...     ...    ...      ...    ...       ...   \n",
      "330    False   False  False   False   False  False    False  False     False   \n",
      "331    False   False  False   False   False  False    False  False     False   \n",
      "332    False   False  False   False   False  False    False  False     False   \n",
      "333    False   False  False   False   False  False    False  False     False   \n",
      "334    False   False  False   False   False  False    False  False     False   \n",
      "\n",
      "     Protein    Fat  Sat.Fat  Fiber  Carbs  Category  Rating  Last Updated  \n",
      "0      False  False    False  False  False     False    True         False  \n",
      "1      False  False    False  False  False     False   False         False  \n",
      "2      False  False    False  False  False     False    True         False  \n",
      "3      False  False    False  False  False     False   False         False  \n",
      "4      False  False    False  False   True     False   False         False  \n",
      "..       ...    ...      ...    ...    ...       ...     ...           ...  \n",
      "330    False  False    False  False  False     False   False         False  \n",
      "331    False  False    False  False  False     False   False         False  \n",
      "332    False  False    False  False  False     False   False         False  \n",
      "333    False  False    False  False  False     False   False         False  \n",
      "334    False  False    False  False  False     False   False         False  \n",
      "\n",
      "[335 rows x 17 columns]\n"
     ]
    }
   ],
   "source": [
    "print(missdata.isnull())\n"
   ]
  },
  {
   "cell_type": "code",
   "execution_count": 30,
   "metadata": {},
   "outputs": [
    {
     "name": "stdout",
     "output_type": "stream",
     "text": [
      "            User_ID         Age      Height      Weight      Rating\n",
      "count  3.350000e+02  331.000000  335.000000  335.000000  321.000000\n",
      "mean   1.491675e+07   43.163142  174.462687   75.394030    4.300312\n",
      "std    2.968753e+06   16.424593   14.363469   15.127798    0.341915\n",
      "min    1.000644e+07   20.000000  136.000000   45.000000    3.100000\n",
      "25%    1.234573e+07   30.000000  163.000000   62.500000    4.100000\n",
      "50%    1.492006e+07   40.000000  174.000000   74.000000    4.400000\n",
      "75%    1.743219e+07   55.000000  185.500000   88.000000    4.500000\n",
      "max    1.998459e+07   79.000000  208.000000  112.000000    5.000000\n"
     ]
    }
   ],
   "source": [
    "print(missdata.describe())"
   ]
  },
  {
   "cell_type": "code",
   "execution_count": 31,
   "metadata": {},
   "outputs": [
    {
     "name": "stdout",
     "output_type": "stream",
     "text": [
      "<class 'pandas.core.frame.DataFrame'>\n",
      "RangeIndex: 335 entries, 0 to 334\n",
      "Data columns (total 17 columns):\n",
      " #   Column        Non-Null Count  Dtype  \n",
      "---  ------        --------------  -----  \n",
      " 0   User_ID       335 non-null    int64  \n",
      " 1   Gender        335 non-null    object \n",
      " 2   Age           331 non-null    float64\n",
      " 3   Height        335 non-null    int64  \n",
      " 4   Weight        335 non-null    int64  \n",
      " 5   Food          335 non-null    object \n",
      " 6   Measure       335 non-null    object \n",
      " 7   Grams         335 non-null    object \n",
      " 8   Calories      334 non-null    object \n",
      " 9   Protein       335 non-null    object \n",
      " 10  Fat           335 non-null    object \n",
      " 11  Sat.Fat       333 non-null    object \n",
      " 12  Fiber         335 non-null    object \n",
      " 13  Carbs         334 non-null    object \n",
      " 14  Category      335 non-null    object \n",
      " 15  Rating        321 non-null    float64\n",
      " 16  Last Updated  335 non-null    object \n",
      "dtypes: float64(2), int64(3), object(12)\n",
      "memory usage: 44.6+ KB\n",
      "None\n"
     ]
    }
   ],
   "source": [
    "print(missdata.info())\n"
   ]
  },
  {
   "cell_type": "code",
   "execution_count": 32,
   "metadata": {},
   "outputs": [
    {
     "name": "stdout",
     "output_type": "stream",
     "text": [
      "(335, 17)\n"
     ]
    }
   ],
   "source": [
    "print(missdata.shape)\n"
   ]
  },
  {
   "cell_type": "code",
   "execution_count": 21,
   "metadata": {},
   "outputs": [
    {
     "name": "stdout",
     "output_type": "stream",
     "text": [
      "      User_ID  Gender   Age  Height  Weight                   Food Measure  \\\n",
      "1    14861698  female  20.0     166      60              Milk skim   1 qt.   \n",
      "3    16180408  female  34.0     179      71  Evaporated, undiluted   1 cup   \n",
      "5    15130815  female  36.0     151      50          Powdered milk   1 cup   \n",
      "8    12132339    male  60.0     186      94            Goats' milk   1 cup   \n",
      "9    17964668  female  26.0     146      51    (1/2 cup ice cream)  2 cups   \n",
      "..        ...     ...   ...     ...     ...                    ...     ...   \n",
      "330  16205668    male  47.0     195      99    Fruit-flavored soda  12 oz.   \n",
      "331  15013894  female  39.0     164      65             Ginger ale  12 oz.   \n",
      "332  12286808  female  25.0     163      60              Root beer  12 oz.   \n",
      "333  10485469    male  22.0     165      67                 Coffee   1 cup   \n",
      "334  13340241    male  67.0     173      78                    Tea   1 cup   \n",
      "\n",
      "    Grams Calories Protein Fat Sat.Fat Fiber Carbs                   Category  \\\n",
      "1     984      360      36   t       t     0    52             Dairy products   \n",
      "3     252      345      16  20      18     0    24             Dairy products   \n",
      "5     103      515      27  28      24     0    39             Dairy products   \n",
      "8     244      165       8  10       8     0    11             Dairy products   \n",
      "9     540      690      24  24      22     0    70             Dairy products   \n",
      "..    ...      ...     ...  ..     ...   ...   ...                        ...   \n",
      "330   346      161       0   0       0     0    42  Drinks,Alcohol, Beverages   \n",
      "331   346      105       0   0       0     0    28  Drinks,Alcohol, Beverages   \n",
      "332   346      140       0   0       0     0    35  Drinks,Alcohol, Beverages   \n",
      "333   230        3       t   0       0     0     1  Drinks,Alcohol, Beverages   \n",
      "334   230        4       0   t       0     0     1  Drinks,Alcohol, Beverages   \n",
      "\n",
      "     Rating        Last Updated  \n",
      "1       3.9    January 15, 2018  \n",
      "3       4.5        June 8, 2018  \n",
      "5       4.4      March 26, 2017  \n",
      "8       4.4  September 20, 2017  \n",
      "9       4.7        July 3, 2018  \n",
      "..      ...                 ...  \n",
      "330     4.4      August 1, 2018  \n",
      "331     4.7       June 16, 2018  \n",
      "332     4.4      August 3, 2018  \n",
      "333     4.4        May 28, 2018  \n",
      "334     4.6      August 2, 2018  \n",
      "\n",
      "[317 rows x 17 columns]\n"
     ]
    }
   ],
   "source": [
    "print(missdata.dropna())\n"
   ]
  },
  {
   "cell_type": "code",
   "execution_count": 34,
   "metadata": {},
   "outputs": [
    {
     "name": "stdout",
     "output_type": "stream",
     "text": [
      "      User_ID  Gender   Age  Height  Weight                   Food Measure  \\\n",
      "0    14733363    male  12.0     190      94             Cows' milk   1 qt.   \n",
      "1    14861698  female  20.0     166      60              Milk skim   1 qt.   \n",
      "2    11179863    male  12.0     179      79             Buttermilk   1 cup   \n",
      "3    16180408  female  34.0     179      71  Evaporated, undiluted   1 cup   \n",
      "4    17771927  female  12.0     154      58         Fortified milk  6 cups   \n",
      "..        ...     ...   ...     ...     ...                    ...     ...   \n",
      "330  16205668    male  47.0     195      99    Fruit-flavored soda  12 oz.   \n",
      "331  15013894  female  39.0     164      65             Ginger ale  12 oz.   \n",
      "332  12286808  female  25.0     163      60              Root beer  12 oz.   \n",
      "333  10485469    male  22.0     165      67                 Coffee   1 cup   \n",
      "334  13340241    male  67.0     173      78                    Tea   1 cup   \n",
      "\n",
      "     Grams Calories Protein Fat Sat.Fat Fiber Carbs  \\\n",
      "0      976      660      32  40      36     0    48   \n",
      "1      984      360      36   t       t     0    52   \n",
      "2      246      127       9   5       4     0    13   \n",
      "3      252      345      16  20      18     0    24   \n",
      "4    1,419    1,373      89  42      23   1.4    12   \n",
      "..     ...      ...     ...  ..     ...   ...   ...   \n",
      "330    346      161       0   0       0     0    42   \n",
      "331    346      105       0   0       0     0    28   \n",
      "332    346      140       0   0       0     0    35   \n",
      "333    230        3       t   0       0     0     1   \n",
      "334    230        4       0   t       0     0     1   \n",
      "\n",
      "                      Category  Rating      Last Updated  \n",
      "0               Dairy products    12.0   January 7, 2018  \n",
      "1               Dairy products     3.9  January 15, 2018  \n",
      "2               Dairy products    12.0    August 1, 2018  \n",
      "3               Dairy products     4.5      June 8, 2018  \n",
      "4               Dairy products     4.3     June 20, 2018  \n",
      "..                         ...     ...               ...  \n",
      "330  Drinks,Alcohol, Beverages     4.4    August 1, 2018  \n",
      "331  Drinks,Alcohol, Beverages     4.7     June 16, 2018  \n",
      "332  Drinks,Alcohol, Beverages     4.4    August 3, 2018  \n",
      "333  Drinks,Alcohol, Beverages     4.4      May 28, 2018  \n",
      "334  Drinks,Alcohol, Beverages     4.6    August 2, 2018  \n",
      "\n",
      "[335 rows x 17 columns]\n",
      "      User_ID  Gender   Age  Height  Weight                   Food Measure  \\\n",
      "0    14733363    male   NaN     190      94             Cows' milk   1 qt.   \n",
      "1    14861698  female  20.0     166      60              Milk skim   1 qt.   \n",
      "2    11179863    male  20.0     179      79             Buttermilk   1 cup   \n",
      "3    16180408  female  34.0     179      71  Evaporated, undiluted   1 cup   \n",
      "4    17771927  female  34.0     154      58         Fortified milk  6 cups   \n",
      "..        ...     ...   ...     ...     ...                    ...     ...   \n",
      "330  16205668    male  47.0     195      99    Fruit-flavored soda  12 oz.   \n",
      "331  15013894  female  39.0     164      65             Ginger ale  12 oz.   \n",
      "332  12286808  female  25.0     163      60              Root beer  12 oz.   \n",
      "333  10485469    male  22.0     165      67                 Coffee   1 cup   \n",
      "334  13340241    male  67.0     173      78                    Tea   1 cup   \n",
      "\n",
      "     Grams Calories Protein Fat Sat.Fat Fiber Carbs  \\\n",
      "0      976      660      32  40      36     0    48   \n",
      "1      984      360      36   t       t     0    52   \n",
      "2      246      127       9   5       4     0    13   \n",
      "3      252      345      16  20      18     0    24   \n",
      "4    1,419    1,373      89  42      23   1.4    24   \n",
      "..     ...      ...     ...  ..     ...   ...   ...   \n",
      "330    346      161       0   0       0     0    42   \n",
      "331    346      105       0   0       0     0    28   \n",
      "332    346      140       0   0       0     0    35   \n",
      "333    230        3       t   0       0     0     1   \n",
      "334    230        4       0   t       0     0     1   \n",
      "\n",
      "                      Category  Rating      Last Updated  \n",
      "0               Dairy products     NaN   January 7, 2018  \n",
      "1               Dairy products     3.9  January 15, 2018  \n",
      "2               Dairy products     3.9    August 1, 2018  \n",
      "3               Dairy products     4.5      June 8, 2018  \n",
      "4               Dairy products     4.3     June 20, 2018  \n",
      "..                         ...     ...               ...  \n",
      "330  Drinks,Alcohol, Beverages     4.4    August 1, 2018  \n",
      "331  Drinks,Alcohol, Beverages     4.7     June 16, 2018  \n",
      "332  Drinks,Alcohol, Beverages     4.4    August 3, 2018  \n",
      "333  Drinks,Alcohol, Beverages     4.4      May 28, 2018  \n",
      "334  Drinks,Alcohol, Beverages     4.6    August 2, 2018  \n",
      "\n",
      "[335 rows x 17 columns]\n",
      "      User_ID  Gender   Age  Height  Weight                   Food Measure  \\\n",
      "0    14733363    male  20.0     190      94             Cows' milk   1 qt.   \n",
      "1    14861698  female  20.0     166      60              Milk skim   1 qt.   \n",
      "2    11179863    male  34.0     179      79             Buttermilk   1 cup   \n",
      "3    16180408  female  34.0     179      71  Evaporated, undiluted   1 cup   \n",
      "4    17771927  female  36.0     154      58         Fortified milk  6 cups   \n",
      "..        ...     ...   ...     ...     ...                    ...     ...   \n",
      "330  16205668    male  47.0     195      99    Fruit-flavored soda  12 oz.   \n",
      "331  15013894  female  39.0     164      65             Ginger ale  12 oz.   \n",
      "332  12286808  female  25.0     163      60              Root beer  12 oz.   \n",
      "333  10485469    male  22.0     165      67                 Coffee   1 cup   \n",
      "334  13340241    male  67.0     173      78                    Tea   1 cup   \n",
      "\n",
      "     Grams Calories Protein Fat Sat.Fat Fiber Carbs  \\\n",
      "0      976      660      32  40      36     0    48   \n",
      "1      984      360      36   t       t     0    52   \n",
      "2      246      127       9   5       4     0    13   \n",
      "3      252      345      16  20      18     0    24   \n",
      "4    1,419    1,373      89  42      23   1.4    39   \n",
      "..     ...      ...     ...  ..     ...   ...   ...   \n",
      "330    346      161       0   0       0     0    42   \n",
      "331    346      105       0   0       0     0    28   \n",
      "332    346      140       0   0       0     0    35   \n",
      "333    230        3       t   0       0     0     1   \n",
      "334    230        4       0   t       0     0     1   \n",
      "\n",
      "                      Category  Rating      Last Updated  \n",
      "0               Dairy products     3.9   January 7, 2018  \n",
      "1               Dairy products     3.9  January 15, 2018  \n",
      "2               Dairy products     4.5    August 1, 2018  \n",
      "3               Dairy products     4.5      June 8, 2018  \n",
      "4               Dairy products     4.3     June 20, 2018  \n",
      "..                         ...     ...               ...  \n",
      "330  Drinks,Alcohol, Beverages     4.4    August 1, 2018  \n",
      "331  Drinks,Alcohol, Beverages     4.7     June 16, 2018  \n",
      "332  Drinks,Alcohol, Beverages     4.4    August 3, 2018  \n",
      "333  Drinks,Alcohol, Beverages     4.4      May 28, 2018  \n",
      "334  Drinks,Alcohol, Beverages     4.6    August 2, 2018  \n",
      "\n",
      "[335 rows x 17 columns]\n"
     ]
    },
    {
     "name": "stderr",
     "output_type": "stream",
     "text": [
      "/tmp/ipykernel_4166/1698960172.py:2: FutureWarning: DataFrame.fillna with 'method' is deprecated and will raise in a future version. Use obj.ffill() or obj.bfill() instead.\n",
      "  print(missdata.fillna(method='ffill'))\n",
      "/tmp/ipykernel_4166/1698960172.py:3: FutureWarning: DataFrame.fillna with 'method' is deprecated and will raise in a future version. Use obj.ffill() or obj.bfill() instead.\n",
      "  print(missdata.fillna(method='bfill'))\n"
     ]
    }
   ],
   "source": [
    "print(missdata.fillna(12))\n",
    "print(missdata.fillna(method='ffill'))\n",
    "print(missdata.fillna(method='bfill'))"
   ]
  },
  {
   "cell_type": "code",
   "execution_count": 36,
   "metadata": {},
   "outputs": [
    {
     "data": {
      "text/html": [
       "<div>\n",
       "<style scoped>\n",
       "    .dataframe tbody tr th:only-of-type {\n",
       "        vertical-align: middle;\n",
       "    }\n",
       "\n",
       "    .dataframe tbody tr th {\n",
       "        vertical-align: top;\n",
       "    }\n",
       "\n",
       "    .dataframe thead th {\n",
       "        text-align: right;\n",
       "    }\n",
       "</style>\n",
       "<table border=\"1\" class=\"dataframe\">\n",
       "  <thead>\n",
       "    <tr style=\"text-align: right;\">\n",
       "      <th></th>\n",
       "      <th>User_ID</th>\n",
       "      <th>Gender</th>\n",
       "      <th>Age</th>\n",
       "      <th>Height</th>\n",
       "      <th>Weight</th>\n",
       "      <th>Food</th>\n",
       "      <th>Measure</th>\n",
       "      <th>Grams</th>\n",
       "      <th>Calories</th>\n",
       "      <th>Protein</th>\n",
       "      <th>Fat</th>\n",
       "      <th>Sat.Fat</th>\n",
       "      <th>Fiber</th>\n",
       "      <th>Carbs</th>\n",
       "      <th>Category</th>\n",
       "      <th>Rating</th>\n",
       "      <th>Last Updated</th>\n",
       "    </tr>\n",
       "  </thead>\n",
       "  <tbody>\n",
       "    <tr>\n",
       "      <th>0</th>\n",
       "      <td>14733363</td>\n",
       "      <td>male</td>\n",
       "      <td>NaN</td>\n",
       "      <td>190</td>\n",
       "      <td>94</td>\n",
       "      <td>Cows' milk</td>\n",
       "      <td>1 qt.</td>\n",
       "      <td>976</td>\n",
       "      <td>660</td>\n",
       "      <td>32</td>\n",
       "      <td>40</td>\n",
       "      <td>36</td>\n",
       "      <td>0</td>\n",
       "      <td>48</td>\n",
       "      <td>Dairy products</td>\n",
       "      <td>NaN</td>\n",
       "      <td>January 7, 2018</td>\n",
       "    </tr>\n",
       "    <tr>\n",
       "      <th>1</th>\n",
       "      <td>14861698</td>\n",
       "      <td>female</td>\n",
       "      <td>20.0</td>\n",
       "      <td>166</td>\n",
       "      <td>60</td>\n",
       "      <td>Milk skim</td>\n",
       "      <td>1 qt.</td>\n",
       "      <td>984</td>\n",
       "      <td>360</td>\n",
       "      <td>36</td>\n",
       "      <td>t</td>\n",
       "      <td>t</td>\n",
       "      <td>0</td>\n",
       "      <td>52</td>\n",
       "      <td>Dairy products</td>\n",
       "      <td>3.9</td>\n",
       "      <td>January 15, 2018</td>\n",
       "    </tr>\n",
       "    <tr>\n",
       "      <th>2</th>\n",
       "      <td>11179863</td>\n",
       "      <td>male</td>\n",
       "      <td>NaN</td>\n",
       "      <td>179</td>\n",
       "      <td>79</td>\n",
       "      <td>Buttermilk</td>\n",
       "      <td>1 cup</td>\n",
       "      <td>246</td>\n",
       "      <td>127</td>\n",
       "      <td>9</td>\n",
       "      <td>5</td>\n",
       "      <td>4</td>\n",
       "      <td>0</td>\n",
       "      <td>13</td>\n",
       "      <td>Dairy products</td>\n",
       "      <td>NaN</td>\n",
       "      <td>August 1, 2018</td>\n",
       "    </tr>\n",
       "    <tr>\n",
       "      <th>3</th>\n",
       "      <td>16180408</td>\n",
       "      <td>female</td>\n",
       "      <td>34.0</td>\n",
       "      <td>179</td>\n",
       "      <td>71</td>\n",
       "      <td>Evaporated, undiluted</td>\n",
       "      <td>1 cup</td>\n",
       "      <td>252</td>\n",
       "      <td>345</td>\n",
       "      <td>16</td>\n",
       "      <td>20</td>\n",
       "      <td>18</td>\n",
       "      <td>0</td>\n",
       "      <td>24</td>\n",
       "      <td>Dairy products</td>\n",
       "      <td>4.5</td>\n",
       "      <td>June 8, 2018</td>\n",
       "    </tr>\n",
       "    <tr>\n",
       "      <th>4</th>\n",
       "      <td>17771927</td>\n",
       "      <td>female</td>\n",
       "      <td>NaN</td>\n",
       "      <td>154</td>\n",
       "      <td>58</td>\n",
       "      <td>Fortified milk</td>\n",
       "      <td>6 cups</td>\n",
       "      <td>1,419</td>\n",
       "      <td>1,373</td>\n",
       "      <td>89</td>\n",
       "      <td>42</td>\n",
       "      <td>23</td>\n",
       "      <td>1.4</td>\n",
       "      <td>NaN</td>\n",
       "      <td>Dairy products</td>\n",
       "      <td>4.3</td>\n",
       "      <td>June 20, 2018</td>\n",
       "    </tr>\n",
       "  </tbody>\n",
       "</table>\n",
       "</div>"
      ],
      "text/plain": [
       "    User_ID  Gender   Age  Height  Weight                   Food Measure  \\\n",
       "0  14733363    male   NaN     190      94             Cows' milk   1 qt.   \n",
       "1  14861698  female  20.0     166      60              Milk skim   1 qt.   \n",
       "2  11179863    male   NaN     179      79             Buttermilk   1 cup   \n",
       "3  16180408  female  34.0     179      71  Evaporated, undiluted   1 cup   \n",
       "4  17771927  female   NaN     154      58         Fortified milk  6 cups   \n",
       "\n",
       "   Grams Calories Protein Fat Sat.Fat Fiber Carbs        Category  Rating  \\\n",
       "0    976      660      32  40      36     0    48  Dairy products     NaN   \n",
       "1    984      360      36   t       t     0    52  Dairy products     3.9   \n",
       "2    246      127       9   5       4     0    13  Dairy products     NaN   \n",
       "3    252      345      16  20      18     0    24  Dairy products     4.5   \n",
       "4  1,419    1,373      89  42      23   1.4   NaN  Dairy products     4.3   \n",
       "\n",
       "       Last Updated  \n",
       "0   January 7, 2018  \n",
       "1  January 15, 2018  \n",
       "2    August 1, 2018  \n",
       "3      June 8, 2018  \n",
       "4     June 20, 2018  "
      ]
     },
     "execution_count": 36,
     "metadata": {},
     "output_type": "execute_result"
    }
   ],
   "source": [
    "missdata.head(5)"
   ]
  },
  {
   "cell_type": "code",
   "execution_count": 44,
   "metadata": {},
   "outputs": [
    {
     "name": "stdout",
     "output_type": "stream",
     "text": [
      "        Weight                                            Protein\n",
      "Gender                                                           \n",
      "female   10597  361689273024818139301427611400tt0tt42321161918...\n",
      "male     14660  3293089642384671213t114t0032420242212232216138...\n"
     ]
    }
   ],
   "source": [
    "grouped=missdata.groupby('Gender')[['Weight','Protein']].sum()\n",
    "print(grouped)"
   ]
  },
  {
   "cell_type": "code",
   "execution_count": 45,
   "metadata": {},
   "outputs": [
    {
     "name": "stdout",
     "output_type": "stream",
     "text": [
      "                User_ID   Age  Height  Weight                       Food  \\\n",
      "Gender Rating                                                              \n",
      "male   4.8     17231597  29.0     176      75                      Swiss   \n",
      "female 4.2     14345479  55.0     160      62                     Celery   \n",
      "male   4.5     19439155  57.0     178      83                   Flounder   \n",
      "female 4.8     11267944  73.0     158      57                    Frozen    \n",
      "       4.2     11138472  69.0     164      65            Roasted chicken   \n",
      "       4.4     13991141  36.0     163      58  Spaghetti with meat sauce   \n",
      "male   4.4     18976127  41.0     172      71     Fruit cocktail, canned   \n",
      "       4.4     12301038  41.0     178      76    figs Canned with syrup    \n",
      "female 3.5     18319225  26.0     158      60                Apple betty   \n",
      "male   4.4     14290814  66.0     171      72                    Peaches   \n",
      "       4.2     11842710  53.0     192      93                      Clams   \n",
      "female 4.7     17964668  26.0     146      51        (1/2 cup ice cream)   \n",
      "       3.8     19246830  41.0     150      51             Split-pea soup   \n",
      "       4.2     10310404  23.0     169      68              Peanut butter   \n",
      "male   4.3     14181557  49.0     183      89               Blackberries   \n",
      "       4.2     11830053  60.0     193      90                 Persimmons   \n",
      "female 4.6     16913504  27.0     168      64          Fish sticks fried   \n",
      "       4.5     13586767  37.0     166      61                    Peanuts   \n",
      "       4.3     16137644  49.0     168      68                    Haddock   \n",
      "       3.5     19845852  77.0     160      66                        Gin   \n",
      "\n",
      "                 Measure Grams Calories Protein Fat Sat.Fat Fiber Carbs  \\\n",
      "Gender Rating                                                             \n",
      "male   4.8         1 oz.    28      105       7   8       7     0     t   \n",
      "female 4.2         1 cup   100       20       1   t       0     1     4   \n",
      "male   4.5     3 1/2 oz.   100      200      30   8       0     0     0   \n",
      "female 4.8     6-oz. can   210      330       2   t       t   0.4    78   \n",
      "       4.2     3 1/2 oz.   100      290      25  20      16     0     0   \n",
      "       4.4         1 cup   250      285      13  10       6   0.5    35   \n",
      "male   4.4         1 cup   256      195       1   t       0   0.5    50   \n",
      "       4.4             3   115      130       1   t       0     1    32   \n",
      "female 3.5     1 serving   100      150       1   4       0   0.5    29   \n",
      "male   4.4         1 cup   257      200       1   t       0     1    52   \n",
      "       4.2         3 oz.    85       87      12   1       0     0     2   \n",
      "female 4.7        2 cups   540      690      24  24      22     0    70   \n",
      "       3.8         1 cup   250      147       8   3       3   0.5    25   \n",
      "       4.2       1/3 cup    50      300      12  25      17   0.9     9   \n",
      "male   4.3         1 cup   144       85       2   1       0   6.6    19   \n",
      "       4.2        1 med.   125       75       1   t       0     2    20   \n",
      "female 4.6             5   112      200      19  10       5     0     8   \n",
      "       4.5       1/3 cup    50      290      13  25      16   1.2     9   \n",
      "       4.3         3 oz.    85      135      16   5       4     0     6   \n",
      "       3.5         1 oz.    28       70       0   0       0     0     t   \n",
      "\n",
      "                                       Category        Last Updated  \n",
      "Gender Rating                                                        \n",
      "male   4.8                       Dairy products      April 25, 2018  \n",
      "female 4.2                       Vegetables A-E  September 12, 2017  \n",
      "male   4.5                        Fish, Seafood        June 8, 2018  \n",
      "female 4.8                           Fruits G-P       July 19, 2018  \n",
      "       4.2                        Meat, Poultry       July 26, 2018  \n",
      "       4.4     Breads, cereals, fastfood,grains       July 20, 2018  \n",
      "male   4.4                           Fruits A-F       July 19, 2018  \n",
      "       4.4                           Fruits A-F       July 28, 2018  \n",
      "female 3.5                     Desserts, sweets       July 30, 2018  \n",
      "male   4.4                           Fruits G-P       June 26, 2018  \n",
      "       4.2                        Fish, Seafood       July 11, 2018  \n",
      "female 4.7                       Dairy products        July 3, 2018  \n",
      "       3.8                                Soups       July 12, 2018  \n",
      "       4.2                       Seeds and Nuts       July 19, 2018  \n",
      "male   4.3                           Fruits A-F       July 31, 2018  \n",
      "       4.2                           Fruits G-P        July 9, 2018  \n",
      "female 4.6                        Fish, Seafood       June 14, 2018  \n",
      "       4.5                       Seeds and Nuts       July 31, 2018  \n",
      "       4.3                        Fish, Seafood        July 4, 2018  \n",
      "       3.5            Drinks,Alcohol, Beverages       July 13, 2018  \n"
     ]
    }
   ],
   "source": [
    "random_samples = missdata.sample(n=20, random_state=42)  \n",
    "\n",
    "random_samples.set_index(['Gender', 'Rating'], inplace=True)\n",
    "\n",
    "print(random_samples)"
   ]
  }
 ],
 "metadata": {
  "kernelspec": {
   "display_name": "Python 3",
   "language": "python",
   "name": "python3"
  },
  "language_info": {
   "codemirror_mode": {
    "name": "ipython",
    "version": 3
   },
   "file_extension": ".py",
   "mimetype": "text/x-python",
   "name": "python",
   "nbconvert_exporter": "python",
   "pygments_lexer": "ipython3",
   "version": "3.10.8"
  },
  "orig_nbformat": 4
 },
 "nbformat": 4,
 "nbformat_minor": 2
}
