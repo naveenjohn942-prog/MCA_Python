{
 "cells": [
  {
   "cell_type": "code",
   "execution_count": 69,
   "metadata": {},
   "outputs": [],
   "source": [
    "from datetime import datetime, date\n",
    "\n",
    "\n",
    "class QuitException(Exception):\n",
    "    \n",
    "    def __init__(self, message=\"Bye! Hope you run this program again\"):\n",
    "        super().__init__(message)\n",
    "        self.message = message\n",
    "\n",
    "\n",
    "def cal_age(dob):\n",
    "    today = date.today()\n",
    "        \n",
    "    age = today.year - dob.year\n",
    "    if (today.month, today.day) < (dob.month, dob.day):\n",
    "        age -= 1\n",
    "    return age\n",
    "\n",
    "\n",
    "def validate_date(date_str):\n",
    "    try:\n",
    "        date = datetime.strptime(date_str, \"%d/%m/%Y\").date()\n",
    "    except ValueError:\n",
    "        return False\n",
    "\n",
    "    # Check if the date is valid\n",
    "\n",
    "    if date.day > 31 or date.month > 12:\n",
    "        return False\n",
    "\n",
    "    if date.month == 2 and date.day > 28:\n",
    "        if not date.year % 400 == 0 and date.year % 4 == 0:\n",
    "            return False\n",
    "\n",
    "    return True\n"
   ]
  },
  {
   "cell_type": "code",
   "execution_count": 72,
   "metadata": {},
   "outputs": [
    {
     "name": "stdout",
     "output_type": "stream",
     "text": [
      "Invalid date\n",
      "Bye! Hope you run this program again\n"
     ]
    }
   ],
   "source": [
    "\n",
    "\n",
    "def main():\n",
    "    while True:\n",
    "        try:\n",
    "            user_input = input(\"Enter Date of Birth (dd/mm/yyyy), 'q' to quit, '?' for help: \")\n",
    "            \n",
    "            if user_input.lower() == 'q':\n",
    "                raise QuitException()\n",
    "            elif user_input == '?':\n",
    "                print(\"Please enter Date of Birth in the format 'dd/mm/yyyy'\")\n",
    "                continue\n",
    "            \n",
    "            if not user_input:\n",
    "                raise ValueError(\"No input provided\")\n",
    "\n",
    "            if not validate_date(user_input):\n",
    "                raise ValueError(\"Invalid date\")\n",
    "\n",
    "            dob = datetime.strptime(user_input, \"%d/%m/%Y\").date()\n",
    "            \n",
    "            age = cal_age(dob)\n",
    "            \n",
    "            print(\"Your age is:\",age,flush=True)\n",
    "            break                \n",
    "        except QuitException as e:\n",
    "            print(e.message)\n",
    "            break                \n",
    "        except ValueError as e:\n",
    "            print(e.args[0],flush=True)\n",
    "        except Exception as e:\n",
    "            print(f\"An error occurred: {e}\")\n",
    "\n",
    "main()\n"
   ]
  }
 ],
 "metadata": {
  "kernelspec": {
   "display_name": "Python 3",
   "language": "python",
   "name": "python3"
  },
  "language_info": {
   "codemirror_mode": {
    "name": "ipython",
    "version": 3
   },
   "file_extension": ".py",
   "mimetype": "text/x-python",
   "name": "python",
   "nbconvert_exporter": "python",
   "pygments_lexer": "ipython3",
   "version": "3.10.8"
  },
  "orig_nbformat": 4
 },
 "nbformat": 4,
 "nbformat_minor": 2
}
