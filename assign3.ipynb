{
 "cells": [
  {
   "cell_type": "code",
   "execution_count": 33,
   "metadata": {},
   "outputs": [],
   "source": [
    "from datetime import datetime, date\n",
    "\n",
    "def calculate_age(dob):\n",
    "    today = date.today()\n",
    "        \n",
    "    age = today.year - dob.year\n",
    "    if (today.month, today.day) < (dob.month, dob.day):\n",
    "        age -= 1\n",
    "    print(\"your age:\",age,flush=True)"
   ]
  },
  {
   "cell_type": "code",
   "execution_count": 34,
   "metadata": {},
   "outputs": [
    {
     "name": "stdout",
     "output_type": "stream",
     "text": [
      "your age: 22\n",
      "Bye! Hope you run this program again\n"
     ]
    }
   ],
   "source": [
    "\n",
    "\n",
    "def main():\n",
    "    while True:\n",
    "        try:\n",
    "            user_input = input(\"Enter Date of Birth (dd/mm/yyyy), 'q' to quit, '?' for help: \")\n",
    "            \n",
    "            if user_input.lower() == 'q':\n",
    "                print(\"Bye! Hope you run this program again\")\n",
    "                break\n",
    "            elif user_input == '?':\n",
    "                print(\"Please enter Date of Birth in the format 'dd/mm/yyyy'\")\n",
    "                continue\n",
    "            \n",
    "            if not user_input:\n",
    "                raise ValueError(\"No input provided\")\n",
    "\n",
    "            dob = datetime.strptime(user_input, \"%d/%m/%Y\").date()\n",
    "            \n",
    "            age = calculate_age(dob)\n",
    "                        \n",
    "        except ValueError:\n",
    "            print(\"Invalid input. Please enter a valid Date of Birth in the format 'dd/mm/yyyy'\",flush=True)\n",
    "        except Exception as e:\n",
    "            print(f\"An error occurred: {e}\")\n",
    "\n",
    "main()\n"
   ]
  }
 ],
 "metadata": {
  "kernelspec": {
   "display_name": "Python 3",
   "language": "python",
   "name": "python3"
  },
  "language_info": {
   "codemirror_mode": {
    "name": "ipython",
    "version": 3
   },
   "file_extension": ".py",
   "mimetype": "text/x-python",
   "name": "python",
   "nbconvert_exporter": "python",
   "pygments_lexer": "ipython3",
   "version": "3.10.8"
  },
  "orig_nbformat": 4
 },
 "nbformat": 4,
 "nbformat_minor": 2
}
